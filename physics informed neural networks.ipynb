{
 "cells": [
  {
   "cell_type": "code",
   "execution_count": 21,
   "id": "a394871f",
   "metadata": {},
   "outputs": [],
   "source": [
    "import tensorflow as tf"
   ]
  },
  {
   "cell_type": "code",
   "execution_count": 28,
   "id": "be6c55a9",
   "metadata": {},
   "outputs": [],
   "source": [
    "def U(t,T):\n",
    "    U = tf.neural_net(tf.concat([t,T],1), weights, biases)\n",
    "    return U"
   ]
  },
  {
   "cell_type": "code",
   "execution_count": 29,
   "id": "72d86aa4",
   "metadata": {},
   "outputs": [],
   "source": [
    "def f(t,T):\n",
    "    u = U(t,T)\n",
    "    u_t = tf.gradients(u, t)[0]\n",
    "    u_tT = tf.gradients(u_t, T)[0]\n",
    "    f = u_t + u_tT + ((2.303*tf.math.square(u)*tf.math.log(0.049/u))/t) - (14300*(tf.math.exp(-10656/T))*(10656*tf.math.log(T)))\n",
    "    return f"
   ]
  },
  {
   "cell_type": "code",
   "execution_count": 9,
   "id": "b2cbf530",
   "metadata": {},
   "outputs": [
    {
     "name": "stdout",
     "output_type": "stream",
     "text": [
      "Collecting torch\n",
      "  Downloading torch-1.12.0-cp39-cp39-win_amd64.whl (161.8 MB)\n",
      "Requirement already satisfied: typing-extensions in c:\\users\\bless\\anaconda3\\lib\\site-packages (from torch) (3.10.0.2)\n",
      "Installing collected packages: torch\n",
      "Successfully installed torch-1.12.0\n"
     ]
    }
   ],
   "source": [
    "!pip install torch"
   ]
  },
  {
   "cell_type": "code",
   "execution_count": 10,
   "id": "77f59239",
   "metadata": {},
   "outputs": [
    {
     "name": "stdout",
     "output_type": "stream",
     "text": [
      "Collecting pyDOE\n",
      "  Downloading pyDOE-0.3.8.zip (22 kB)\n",
      "Requirement already satisfied: numpy in c:\\users\\bless\\anaconda3\\lib\\site-packages (from pyDOE) (1.20.3)\n",
      "Requirement already satisfied: scipy in c:\\users\\bless\\anaconda3\\lib\\site-packages (from pyDOE) (1.7.1)\n",
      "Building wheels for collected packages: pyDOE\n",
      "  Building wheel for pyDOE (setup.py): started\n",
      "  Building wheel for pyDOE (setup.py): finished with status 'done'\n",
      "  Created wheel for pyDOE: filename=pyDOE-0.3.8-py3-none-any.whl size=18184 sha256=3c156265c5c0974d59ba79c650b33148a776bbacc5d2f05c10b4532b6020c04a\n",
      "  Stored in directory: c:\\users\\bless\\appdata\\local\\pip\\cache\\wheels\\3c\\ca\\0d\\63b767ad585fbcb3ea222541572dcb78859d0383510672b105\n",
      "Successfully built pyDOE\n",
      "Installing collected packages: pyDOE\n",
      "Successfully installed pyDOE-0.3.8\n"
     ]
    }
   ],
   "source": [
    "! pip install pyDOE"
   ]
  },
  {
   "cell_type": "code",
   "execution_count": 11,
   "id": "4804c0cf",
   "metadata": {},
   "outputs": [
    {
     "name": "stdout",
     "output_type": "stream",
     "text": [
      "cpu\n"
     ]
    }
   ],
   "source": [
    "import torch\n",
    "import torch.autograd as autograd         # computation graph\n",
    "from torch import Tensor                  # tensor node in the computation graph\n",
    "import torch.nn as nn                     # neural networks\n",
    "import torch.optim as optim               # optimizers e.g. gradient descent, ADAM, etc.\n",
    "\n",
    "import matplotlib.pyplot as plt\n",
    "import matplotlib.gridspec as gridspec\n",
    "from mpl_toolkits.axes_grid1 import make_axes_locatable\n",
    "from mpl_toolkits.mplot3d import Axes3D\n",
    "import matplotlib.ticker\n",
    "from sklearn.model_selection import train_test_split\n",
    "\n",
    "import numpy as np\n",
    "import time\n",
    "from pyDOE import lhs         #Latin Hypercube Sampling\n",
    "import scipy.io\n",
    "\n",
    "#Set default dtype to float32\n",
    "torch.set_default_dtype(torch.float)\n",
    "\n",
    "#PyTorch random number generator\n",
    "torch.manual_seed(1234)\n",
    "\n",
    "# Random number generators in other libraries\n",
    "np.random.seed(1234)\n",
    "\n",
    "# Device configuration\n",
    "device = torch.device('cuda' if torch.cuda.is_available() else 'cpu')\n",
    "\n",
    "print(device)"
   ]
  },
  {
   "cell_type": "code",
   "execution_count": 12,
   "id": "11181663",
   "metadata": {},
   "outputs": [],
   "source": [
    "steps=20000\n",
    "lr=1e-3\n",
    "layers = np.array([2,32,32,1]) # hidden layers\n",
    "# To generate new data:\n",
    "x_min=-1\n",
    "x_max=1\n",
    "t_min=0\n",
    "t_max=1\n",
    "total_points_x=200\n",
    "total_points_t=100\n",
    "#Nu: Number of training points # Nf: Number of collocation points (Evaluate PDE)\n",
    "Nu=100\n",
    "Nf=10000"
   ]
  },
  {
   "cell_type": "code",
   "execution_count": 13,
   "id": "08eedf0f",
   "metadata": {},
   "outputs": [],
   "source": [
    "def plot3D(x,t,y):\n",
    "  x_plot =x.squeeze(1) \n",
    "  t_plot =t.squeeze(1)\n",
    "  X,T= torch.meshgrid(x_plot,t_plot)\n",
    "  F_xt = y\n",
    "  fig,ax=plt.subplots(1,1)\n",
    "  cp = ax.contourf(T,X, F_xt,20,cmap=\"rainbow\")\n",
    "  fig.colorbar(cp) # Add a colorbar to a plot\n",
    "  ax.set_title('F(x,t)')\n",
    "  ax.set_xlabel('t')\n",
    "  ax.set_ylabel('x')\n",
    "  plt.show()\n",
    "  ax = plt.axes(projection='3d')\n",
    "  ax.plot_surface(T.numpy(), X.numpy(), F_xt.numpy(),cmap=\"rainbow\")\n",
    "  ax.set_xlabel('t')\n",
    "  ax.set_ylabel('x')\n",
    "  ax.set_zlabel('f(x,t)')\n",
    "  plt.show()"
   ]
  },
  {
   "cell_type": "code",
   "execution_count": 14,
   "id": "c026c481",
   "metadata": {},
   "outputs": [],
   "source": [
    "def plot3D_Matrix(x,t,y):\n",
    "  X,T= x,t\n",
    "  F_xt = y\n",
    "  fig,ax=plt.subplots(1,1)\n",
    "  cp = ax.contourf(T,X, F_xt,20,cmap=\"rainbow\")\n",
    "  fig.colorbar(cp) # Add a colorbar to a plot\n",
    "  ax.set_title('F(x,t)')\n",
    "  ax.set_xlabel('t')\n",
    "  ax.set_ylabel('x')\n",
    "  plt.show()\n",
    "  ax = plt.axes(projection='3d')\n",
    "  ax.plot_surface(T.numpy(), X.numpy(), F_xt.numpy(),cmap=\"rainbow\")\n",
    "  ax.set_xlabel('t')\n",
    "  ax.set_ylabel('x')\n",
    "  ax.set_zlabel('f(x,t)')\n",
    "  plt.show()"
   ]
  },
  {
   "cell_type": "code",
   "execution_count": 32,
   "id": "f54413f2",
   "metadata": {},
   "outputs": [],
   "source": [
    "class FCN(nn.Module):\n",
    "    def __init__(self,layers):\n",
    "        super().__init__() #call __init__ from parent class \n",
    "        'activation function'\n",
    "        self.activation = nn.Tanh()\n",
    "        'loss function'\n",
    "        self.loss_function = nn.MSELoss(reduction ='mean')\n",
    "        'Initialise neural network as a list using nn.Modulelist'  \n",
    "        self.linears = nn.ModuleList([nn.Linear(layers[i], layers[i+1]) for i in range(len(layers)-1)]) \n",
    "        self.iter = 0 #For the Optimizer\n",
    "        'Xavier Normal Initialization'\n",
    "        for i in range(len(layers)-1):\n",
    "            nn.init.xavier_normal_(self.linears[i].weight.data, gain=1.0)\n",
    "            # set biases to zero\n",
    "            nn.init.zeros_(self.linears[i].bias.data)   \n",
    "    'foward pass'\n",
    "    def forward(self,x):\n",
    "        if torch.is_tensor(x) != True:         \n",
    "            x = torch.from_numpy(x)                \n",
    "        a = x.float()\n",
    "        for i in range(len(layers)-2):  \n",
    "            z = self.linears[i](a)              \n",
    "            a = self.activation(z)    \n",
    "        a = self.linears[-1](a)\n",
    "        return a\n",
    "    'Loss Functions'\n",
    "    #Loss BC\n",
    "    def lossBC(self,x_BC,y_BC):\n",
    "      loss_BC=self.loss_function(self.forward(x_BC),y_BC)\n",
    "      return loss_BC\n",
    "    #Loss PDE\n",
    "    def lossPDE(self,x_PDE):\n",
    "      g=x_PDE.clone()\n",
    "      g.requires_grad=True #Enable differentiation\n",
    "      f=self.forward(g)\n",
    "      f_x_t = autograd.grad(f,g,torch.ones([g.shape[0], 1]).to(device), retain_graph=True, create_graph=True)[0] #first derivative\n",
    "      f_xx_tt = autograd.grad(f_x_t,g,torch.ones(g.shape).to(device), create_graph=True)[0]#second derivative\n",
    "      f_t=f_x_t[:,[1]]# we select the 2nd element for t (the first one is x) (Remember the input X=[x,t])\n",
    "      f_xx=f_xx_tt[:,[0]]# we select the 1st element for x (the second one is t) (Remember the input X=[x,t]) \n",
    "      f = f_t + f_x_t + ((2.303*torch.square(f)*torch.log(0.049/f))/t) - (14300*(torch.exp(-10656/x))*(10656*torch.log(x)))\n",
    "      return self.loss_function(f,f_hat)\n",
    "\n",
    "    def loss(self,x_BC,y_BC,x_PDE):\n",
    "      loss_bc=self.lossBC(x_BC,y_BC)\n",
    "      loss_pde=self.lossPDE(x_PDE)\n",
    "      return loss_bc+loss_pde\n",
    "\n",
    "    #Optimizer              X_train_Nu,Y_train_Nu,X_train_Nf                   \n",
    "    def closure(self):\n",
    "      optimizer.zero_grad()  \n",
    "      loss = self.loss(X_train_Nu,Y_train_Nu,X_train_Nf)\n",
    "      loss.backward()      \n",
    "      self.iter += 1\n",
    "      if self.iter % 100 == 0:\n",
    "        loss2=self.lossBC(X_test,Y_test)\n",
    "        print(\"Training Error:\",loss.detach().cpu().numpy(),\"---Testing Error:\",loss2.detach().cpu().numpy())\n",
    "      return loss"
   ]
  },
  {
   "cell_type": "code",
   "execution_count": 33,
   "id": "8a73dace",
   "metadata": {},
   "outputs": [
    {
     "ename": "ModuleNotFoundError",
     "evalue": "No module named 'deepxde'",
     "output_type": "error",
     "traceback": [
      "\u001b[1;31m---------------------------------------------------------------------------\u001b[0m",
      "\u001b[1;31mModuleNotFoundError\u001b[0m                       Traceback (most recent call last)",
      "\u001b[1;32m~\\AppData\\Local\\Temp/ipykernel_21444/1955681578.py\u001b[0m in \u001b[0;36m<module>\u001b[1;34m\u001b[0m\n\u001b[1;32m----> 1\u001b[1;33m \u001b[1;32mimport\u001b[0m \u001b[0mdeepxde\u001b[0m \u001b[1;32mas\u001b[0m \u001b[0mdde\u001b[0m\u001b[1;33m\u001b[0m\u001b[1;33m\u001b[0m\u001b[0m\n\u001b[0m",
      "\u001b[1;31mModuleNotFoundError\u001b[0m: No module named 'deepxde'"
     ]
    }
   ],
   "source": [
    "import deepxde as dde"
   ]
  },
  {
   "cell_type": "code",
   "execution_count": 34,
   "id": "04dcd4d3",
   "metadata": {},
   "outputs": [
    {
     "name": "stdout",
     "output_type": "stream",
     "text": [
      "Collecting deepxde\n",
      "  Downloading DeepXDE-1.6.1-py3-none-any.whl (140 kB)\n",
      "Requirement already satisfied: numpy in c:\\users\\bless\\anaconda3\\lib\\site-packages (from deepxde) (1.20.3)\n",
      "Requirement already satisfied: scikit-learn in c:\\users\\bless\\anaconda3\\lib\\site-packages (from deepxde) (0.24.2)\n",
      "Requirement already satisfied: matplotlib in c:\\users\\bless\\anaconda3\\lib\\site-packages (from deepxde) (3.4.3)\n",
      "Requirement already satisfied: scipy in c:\\users\\bless\\anaconda3\\lib\\site-packages (from deepxde) (1.7.1)\n",
      "Collecting scikit-optimize\n",
      "  Downloading scikit_optimize-0.9.0-py2.py3-none-any.whl (100 kB)\n",
      "Requirement already satisfied: kiwisolver>=1.0.1 in c:\\users\\bless\\anaconda3\\lib\\site-packages (from matplotlib->deepxde) (1.3.1)\n",
      "Requirement already satisfied: python-dateutil>=2.7 in c:\\users\\bless\\anaconda3\\lib\\site-packages (from matplotlib->deepxde) (2.8.2)\n",
      "Requirement already satisfied: cycler>=0.10 in c:\\users\\bless\\anaconda3\\lib\\site-packages (from matplotlib->deepxde) (0.10.0)\n",
      "Requirement already satisfied: pyparsing>=2.2.1 in c:\\users\\bless\\anaconda3\\lib\\site-packages (from matplotlib->deepxde) (3.0.4)\n",
      "Requirement already satisfied: pillow>=6.2.0 in c:\\users\\bless\\anaconda3\\lib\\site-packages (from matplotlib->deepxde) (8.4.0)\n",
      "Requirement already satisfied: six in c:\\users\\bless\\anaconda3\\lib\\site-packages (from cycler>=0.10->matplotlib->deepxde) (1.16.0)\n",
      "Requirement already satisfied: joblib>=0.11 in c:\\users\\bless\\anaconda3\\lib\\site-packages (from scikit-learn->deepxde) (1.1.0)\n",
      "Requirement already satisfied: threadpoolctl>=2.0.0 in c:\\users\\bless\\anaconda3\\lib\\site-packages (from scikit-learn->deepxde) (2.2.0)\n",
      "Collecting pyaml>=16.9\n",
      "  Downloading pyaml-21.10.1-py2.py3-none-any.whl (24 kB)\n",
      "Requirement already satisfied: PyYAML in c:\\users\\bless\\anaconda3\\lib\\site-packages (from pyaml>=16.9->scikit-optimize->deepxde) (6.0)\n",
      "Installing collected packages: pyaml, scikit-optimize, deepxde\n",
      "Successfully installed deepxde-1.6.1 pyaml-21.10.1 scikit-optimize-0.9.0\n"
     ]
    }
   ],
   "source": [
    "!pip install deepxde"
   ]
  },
  {
   "cell_type": "code",
   "execution_count": 172,
   "id": "acddc5b8",
   "metadata": {},
   "outputs": [],
   "source": [
    "import deepxde as dde\n",
    "import numpy as np\n",
    "from deepxde.backend import tf\n",
    "import matplotlib.pyplot as plt\n",
    "from mpl_toolkits import mplot3d"
   ]
  },
  {
   "cell_type": "code",
   "execution_count": 173,
   "id": "04429173",
   "metadata": {},
   "outputs": [],
   "source": [
    "#the temperature is geom and it is represented in the interval 200-400C which is given by -1-1\n",
    "geom = dde.geometry.Interval(-1, 1)\n",
    "timedomain = dde.geometry.TimeDomain(0, 1)\n",
    "geomtime = dde.geometry.GeometryXTime(geom, timedomain)"
   ]
  },
  {
   "cell_type": "code",
   "execution_count": 174,
   "id": "5462ad75",
   "metadata": {},
   "outputs": [],
   "source": [
    "def pde(x, y):\n",
    "    dy_t = dde.grad.jacobian(y, x, j=1)\n",
    "    dy_xx = dde.grad.hessian(y, x, j=0)\n",
    "    return (\n",
    "        dy_t\n",
    "        + (14354*tf.exp(-10656/x[:, 1:]))\n",
    "        * y \n",
    "    )"
   ]
  },
  {
   "cell_type": "code",
   "execution_count": 175,
   "id": "467e2632",
   "metadata": {},
   "outputs": [
    {
     "name": "stdout",
     "output_type": "stream",
     "text": [
      "Warning: 100 points required, but 105 points sampled.\n"
     ]
    },
    {
     "name": "stderr",
     "output_type": "stream",
     "text": [
      "C:\\Users\\bless\\anaconda3\\lib\\site-packages\\skopt\\sampler\\sobol.py:246: UserWarning: The balance properties of Sobol' points require n to be a power of 2. 0 points have been previously generated, then: n=0+42=42. \n",
      "  warnings.warn(\"The balance properties of Sobol' points require \"\n",
      "C:\\Users\\bless\\anaconda3\\lib\\site-packages\\skopt\\sampler\\sobol.py:246: UserWarning: The balance properties of Sobol' points require n to be a power of 2. 0 points have been previously generated, then: n=0+22=22. \n",
      "  warnings.warn(\"The balance properties of Sobol' points require \"\n",
      "C:\\Users\\bless\\anaconda3\\lib\\site-packages\\skopt\\sampler\\sobol.py:246: UserWarning: The balance properties of Sobol' points require n to be a power of 2. 0 points have been previously generated, then: n=0+12=12. \n",
      "  warnings.warn(\"The balance properties of Sobol' points require \"\n"
     ]
    },
    {
     "data": {
      "text/plain": [
       "[array([[ 1.        ,  0.25      ],\n",
       "        [ 1.        ,  0.9375    ],\n",
       "        [ 1.        ,  0.875     ],\n",
       "        [-1.        ,  0.34375   ],\n",
       "        [-1.        ,  0.625     ],\n",
       "        [-1.        ,  0.96875   ],\n",
       "        [ 1.        ,  0.59375   ],\n",
       "        [-1.        ,  0.8125    ],\n",
       "        [-1.        ,  0.5625    ],\n",
       "        [ 1.        ,  0.75      ],\n",
       "        [-1.        ,  0.375     ],\n",
       "        [-1.        ,  0.0625    ],\n",
       "        [ 1.        ,  0.125     ],\n",
       "        [ 1.        ,  0.46875   ],\n",
       "        [-1.        ,  0.09375   ],\n",
       "        [ 1.        ,  0.4375    ],\n",
       "        [ 1.        ,  0.3125    ],\n",
       "        [-1.        ,  0.1875    ],\n",
       "        [ 1.        ,  0.84375   ],\n",
       "        [-1.        ,  0.6875    ],\n",
       "        [ 0.5       ,  0.        ],\n",
       "        [-0.5       ,  0.        ],\n",
       "        [-0.25      ,  0.        ],\n",
       "        [ 0.75      ,  0.        ],\n",
       "        [ 0.25      ,  0.        ],\n",
       "        [-0.75      ,  0.        ],\n",
       "        [-0.625     ,  0.        ],\n",
       "        [ 0.375     ,  0.        ],\n",
       "        [ 0.875     ,  0.        ],\n",
       "        [-0.125     ,  0.        ],\n",
       "        [-0.875     ,  1.        ],\n",
       "        [-0.75      ,  1.        ],\n",
       "        [-0.625     ,  1.        ],\n",
       "        [-0.5       ,  1.        ],\n",
       "        [-0.375     ,  1.        ],\n",
       "        [-0.25      ,  1.        ],\n",
       "        [-0.125     ,  1.        ],\n",
       "        [ 0.        ,  1.        ],\n",
       "        [ 0.125     ,  1.        ],\n",
       "        [ 0.25      ,  1.        ],\n",
       "        [ 0.375     ,  1.        ],\n",
       "        [ 0.5       ,  1.        ],\n",
       "        [ 0.625     ,  1.        ],\n",
       "        [ 0.75      ,  1.        ],\n",
       "        [ 0.875     ,  1.        ],\n",
       "        [-0.875     ,  0.85714287],\n",
       "        [-0.75      ,  0.85714287],\n",
       "        [-0.625     ,  0.85714287],\n",
       "        [-0.5       ,  0.85714287],\n",
       "        [-0.375     ,  0.85714287],\n",
       "        [-0.25      ,  0.85714287],\n",
       "        [-0.125     ,  0.85714287],\n",
       "        [ 0.        ,  0.85714287],\n",
       "        [ 0.125     ,  0.85714287],\n",
       "        [ 0.25      ,  0.85714287],\n",
       "        [ 0.375     ,  0.85714287],\n",
       "        [ 0.5       ,  0.85714287],\n",
       "        [ 0.625     ,  0.85714287],\n",
       "        [ 0.75      ,  0.85714287],\n",
       "        [ 0.875     ,  0.85714287],\n",
       "        [-0.875     ,  0.71428573],\n",
       "        [-0.75      ,  0.71428573],\n",
       "        [-0.625     ,  0.71428573],\n",
       "        [-0.5       ,  0.71428573],\n",
       "        [-0.375     ,  0.71428573],\n",
       "        [-0.25      ,  0.71428573],\n",
       "        [-0.125     ,  0.71428573],\n",
       "        [ 0.        ,  0.71428573],\n",
       "        [ 0.125     ,  0.71428573],\n",
       "        [ 0.25      ,  0.71428573],\n",
       "        [ 0.375     ,  0.71428573],\n",
       "        [ 0.5       ,  0.71428573],\n",
       "        [ 0.625     ,  0.71428573],\n",
       "        [ 0.75      ,  0.71428573],\n",
       "        [ 0.875     ,  0.71428573],\n",
       "        [-0.875     ,  0.5714286 ],\n",
       "        [-0.75      ,  0.5714286 ],\n",
       "        [-0.625     ,  0.5714286 ],\n",
       "        [-0.5       ,  0.5714286 ],\n",
       "        [-0.375     ,  0.5714286 ],\n",
       "        [-0.25      ,  0.5714286 ],\n",
       "        [-0.125     ,  0.5714286 ],\n",
       "        [ 0.        ,  0.5714286 ],\n",
       "        [ 0.125     ,  0.5714286 ],\n",
       "        [ 0.25      ,  0.5714286 ],\n",
       "        [ 0.375     ,  0.5714286 ],\n",
       "        [ 0.5       ,  0.5714286 ],\n",
       "        [ 0.625     ,  0.5714286 ],\n",
       "        [ 0.75      ,  0.5714286 ],\n",
       "        [ 0.875     ,  0.5714286 ],\n",
       "        [-0.875     ,  0.42857143],\n",
       "        [-0.75      ,  0.42857143],\n",
       "        [-0.625     ,  0.42857143],\n",
       "        [-0.5       ,  0.42857143],\n",
       "        [-0.375     ,  0.42857143],\n",
       "        [-0.25      ,  0.42857143],\n",
       "        [-0.125     ,  0.42857143],\n",
       "        [ 0.        ,  0.42857143],\n",
       "        [ 0.125     ,  0.42857143],\n",
       "        [ 0.25      ,  0.42857143],\n",
       "        [ 0.375     ,  0.42857143],\n",
       "        [ 0.5       ,  0.42857143],\n",
       "        [ 0.625     ,  0.42857143],\n",
       "        [ 0.75      ,  0.42857143],\n",
       "        [ 0.875     ,  0.42857143],\n",
       "        [-0.875     ,  0.2857143 ],\n",
       "        [-0.75      ,  0.2857143 ],\n",
       "        [-0.625     ,  0.2857143 ],\n",
       "        [-0.5       ,  0.2857143 ],\n",
       "        [-0.375     ,  0.2857143 ],\n",
       "        [-0.25      ,  0.2857143 ],\n",
       "        [-0.125     ,  0.2857143 ],\n",
       "        [ 0.        ,  0.2857143 ],\n",
       "        [ 0.125     ,  0.2857143 ],\n",
       "        [ 0.25      ,  0.2857143 ],\n",
       "        [ 0.375     ,  0.2857143 ],\n",
       "        [ 0.5       ,  0.2857143 ],\n",
       "        [ 0.625     ,  0.2857143 ],\n",
       "        [ 0.75      ,  0.2857143 ],\n",
       "        [ 0.875     ,  0.2857143 ],\n",
       "        [-0.875     ,  0.14285715],\n",
       "        [-0.75      ,  0.14285715],\n",
       "        [-0.625     ,  0.14285715],\n",
       "        [-0.5       ,  0.14285715],\n",
       "        [-0.375     ,  0.14285715],\n",
       "        [-0.25      ,  0.14285715],\n",
       "        [-0.125     ,  0.14285715],\n",
       "        [ 0.        ,  0.14285715],\n",
       "        [ 0.125     ,  0.14285715],\n",
       "        [ 0.25      ,  0.14285715],\n",
       "        [ 0.375     ,  0.14285715],\n",
       "        [ 0.5       ,  0.14285715],\n",
       "        [ 0.625     ,  0.14285715],\n",
       "        [ 0.75      ,  0.14285715],\n",
       "        [ 0.875     ,  0.14285715]], dtype=float32),\n",
       " None,\n",
       " None]"
      ]
     },
     "execution_count": 175,
     "metadata": {},
     "output_type": "execute_result"
    }
   ],
   "source": [
    "def func(x):\n",
    "    return 49\n",
    "def func2(x):\n",
    "    return (-1+x[:, 0:1])*(-24.5+ x[:, 1:]*(1+x[:, 0:1]))\n",
    "\n",
    "\n",
    "bc = dde.icbc.DirichletBC(geomtime, func2, lambda _, on_boundary: on_boundary)\n",
    "ic = dde.icbc.IC(geomtime, func, lambda _, on_initial: on_initial)\n",
    "data = dde.data.TimePDE(\n",
    "    geomtime,\n",
    "    pde,\n",
    "    [bc, ic],\n",
    "    num_domain=40,\n",
    "    num_boundary=20,\n",
    "    num_initial=10,\n",
    "    num_test=100,\n",
    ")\n",
    "data.test()\n"
   ]
  },
  {
   "cell_type": "code",
   "execution_count": 176,
   "id": "94b842f2",
   "metadata": {},
   "outputs": [],
   "source": [
    "net = dde.nn.FNN([2] + [20] * 3 + [1], \"tanh\", \"Glorot normal\")\n",
    "model = dde.Model(data, net)"
   ]
  },
  {
   "cell_type": "code",
   "execution_count": 177,
   "id": "8c10ec55",
   "metadata": {},
   "outputs": [
    {
     "name": "stdout",
     "output_type": "stream",
     "text": [
      "Compiling model...\n",
      "Building feed-forward neural network...\n",
      "'build' took 0.039609 s\n",
      "\n"
     ]
    },
    {
     "name": "stderr",
     "output_type": "stream",
     "text": [
      "C:\\Users\\bless\\anaconda3\\lib\\site-packages\\deepxde\\nn\\tensorflow_compat_v1\\fnn.py:103: UserWarning: `tf.layers.dense` is deprecated and will be removed in a future version. Please use `tf.keras.layers.Dense` instead.\n",
      "  return tf.layers.dense(\n"
     ]
    },
    {
     "name": "stdout",
     "output_type": "stream",
     "text": [
      "'compile' took 0.520776 s\n",
      "\n",
      "Initializing variables...\n",
      "Training model...\n",
      "\n",
      "Step      Train loss                        Test loss                         Test metric\n",
      "0         [4.75e-01, 1.19e+03, 2.40e+03]    [4.38e-01, 1.19e+03, 2.40e+03]    []  \n",
      "200       [8.74e-02, 8.02e+02, 1.51e+03]    [1.86e-02, 8.02e+02, 1.51e+03]    []  \n",
      "\n",
      "Best model at step 200:\n",
      "  train loss: 2.31e+03\n",
      "  test loss: 2.31e+03\n",
      "  test metric: []\n",
      "\n",
      "'train' took 1.214255 s\n",
      "\n"
     ]
    },
    {
     "data": {
      "text/plain": [
       "(<deepxde.model.LossHistory at 0x29924126b80>,\n",
       " <deepxde.model.TrainState at 0x299241268e0>)"
      ]
     },
     "execution_count": 177,
     "metadata": {},
     "output_type": "execute_result"
    }
   ],
   "source": [
    "model.compile(\"adam\", lr=1e-3)\n",
    "model.train(iterations=200)\n"
   ]
  },
  {
   "cell_type": "code",
   "execution_count": 178,
   "id": "afae7630",
   "metadata": {},
   "outputs": [
    {
     "data": {
      "text/plain": [
       "[<matplotlib.lines.Line2D at 0x29924384be0>]"
      ]
     },
     "execution_count": 178,
     "metadata": {},
     "output_type": "execute_result"
    },
    {
     "data": {
      "image/png": "[encoded data removed]",
      "text/plain": [
       "<Figure size 432x288 with 1 Axes>"
      ]
     },
     "metadata": {
      "needs_background": "light"
     },
     "output_type": "display_data"
    }
   ],
   "source": [
    "x_data = np.linspace(-1,1,num=10)\n",
    "t_data = np.linspace(0,1,num=10)\n",
    "test_x, test_t = np.meshgrid(x_data, t_data)\n",
    "test_domain = np.vstack((np.ravel(test_x), np.ravel(test_t))).T\n",
    "predicted_solution = model.predict(test_domain)\n",
    "residual = model.predict(test_domain, operator = pde)\n",
    "plt.plot(predicted_solution)"
   ]
  },
  {
   "cell_type": "code",
   "execution_count": 157,
   "id": "679adfbd",
   "metadata": {},
   "outputs": [
    {
     "name": "stdout",
     "output_type": "stream",
     "text": [
      "<deepxde.data.pde.TimePDE object at 0x000002991B38E820>\n"
     ]
    }
   ],
   "source": [
    "print(data)"
   ]
  },
  {
   "cell_type": "code",
   "execution_count": null,
   "id": "2be80b7e",
   "metadata": {},
   "outputs": [],
   "source": []
  }
 ],
 "metadata": {
  "kernelspec": {
   "display_name": "Python 3 (ipykernel)",
   "language": "python",
   "name": "python3"
  },
  "language_info": {
   "codemirror_mode": {
    "name": "ipython",
    "version": 3
   },
   "file_extension": ".py",
   "mimetype": "text/x-python",
   "name": "python",
   "nbconvert_exporter": "python",
   "pygments_lexer": "ipython3",
   "version": "3.9.7"
  }
 },
 "nbformat": 4,
 "nbformat_minor": 5
}
